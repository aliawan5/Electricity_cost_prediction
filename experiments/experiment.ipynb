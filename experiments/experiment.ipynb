{
 "cells": [
  {
   "cell_type": "code",
   "execution_count": 1,
   "id": "c5715b28",
   "metadata": {},
   "outputs": [],
   "source": [
    "import pandas as pd"
   ]
  },
  {
   "cell_type": "code",
   "execution_count": 2,
   "id": "d475a963",
   "metadata": {},
   "outputs": [],
   "source": [
    "df = pd.read_csv(r'C:\\Users\\FINE\\Electricity_cost_prediction\\data\\raw\\electricity_cost_dataset.csv')"
   ]
  },
  {
   "cell_type": "code",
   "execution_count": 3,
   "id": "4c1b27d1",
   "metadata": {},
   "outputs": [
    {
     "data": {
      "text/html": [
       "<div>\n",
       "<style scoped>\n",
       "    .dataframe tbody tr th:only-of-type {\n",
       "        vertical-align: middle;\n",
       "    }\n",
       "\n",
       "    .dataframe tbody tr th {\n",
       "        vertical-align: top;\n",
       "    }\n",
       "\n",
       "    .dataframe thead th {\n",
       "        text-align: right;\n",
       "    }\n",
       "</style>\n",
       "<table border=\"1\" class=\"dataframe\">\n",
       "  <thead>\n",
       "    <tr style=\"text-align: right;\">\n",
       "      <th></th>\n",
       "      <th>site area</th>\n",
       "      <th>structure type</th>\n",
       "      <th>water consumption</th>\n",
       "      <th>recycling rate</th>\n",
       "      <th>utilisation rate</th>\n",
       "      <th>air qality index</th>\n",
       "      <th>issue reolution time</th>\n",
       "      <th>resident count</th>\n",
       "      <th>electricity cost</th>\n",
       "    </tr>\n",
       "  </thead>\n",
       "  <tbody>\n",
       "    <tr>\n",
       "      <th>0</th>\n",
       "      <td>1360</td>\n",
       "      <td>Mixed-use</td>\n",
       "      <td>2519.0</td>\n",
       "      <td>69</td>\n",
       "      <td>52</td>\n",
       "      <td>188</td>\n",
       "      <td>1</td>\n",
       "      <td>72</td>\n",
       "      <td>1420.0</td>\n",
       "    </tr>\n",
       "    <tr>\n",
       "      <th>1</th>\n",
       "      <td>4272</td>\n",
       "      <td>Mixed-use</td>\n",
       "      <td>2324.0</td>\n",
       "      <td>50</td>\n",
       "      <td>76</td>\n",
       "      <td>165</td>\n",
       "      <td>65</td>\n",
       "      <td>261</td>\n",
       "      <td>3298.0</td>\n",
       "    </tr>\n",
       "    <tr>\n",
       "      <th>2</th>\n",
       "      <td>3592</td>\n",
       "      <td>Mixed-use</td>\n",
       "      <td>2701.0</td>\n",
       "      <td>20</td>\n",
       "      <td>94</td>\n",
       "      <td>198</td>\n",
       "      <td>39</td>\n",
       "      <td>117</td>\n",
       "      <td>3115.0</td>\n",
       "    </tr>\n",
       "    <tr>\n",
       "      <th>3</th>\n",
       "      <td>966</td>\n",
       "      <td>Residential</td>\n",
       "      <td>1000.0</td>\n",
       "      <td>13</td>\n",
       "      <td>60</td>\n",
       "      <td>74</td>\n",
       "      <td>3</td>\n",
       "      <td>35</td>\n",
       "      <td>1575.0</td>\n",
       "    </tr>\n",
       "    <tr>\n",
       "      <th>4</th>\n",
       "      <td>4926</td>\n",
       "      <td>Residential</td>\n",
       "      <td>5990.0</td>\n",
       "      <td>23</td>\n",
       "      <td>65</td>\n",
       "      <td>32</td>\n",
       "      <td>57</td>\n",
       "      <td>185</td>\n",
       "      <td>4301.0</td>\n",
       "    </tr>\n",
       "  </tbody>\n",
       "</table>\n",
       "</div>"
      ],
      "text/plain": [
       "   site area structure type  water consumption  recycling rate  \\\n",
       "0       1360      Mixed-use             2519.0              69   \n",
       "1       4272      Mixed-use             2324.0              50   \n",
       "2       3592      Mixed-use             2701.0              20   \n",
       "3        966    Residential             1000.0              13   \n",
       "4       4926    Residential             5990.0              23   \n",
       "\n",
       "   utilisation rate  air qality index  issue reolution time  resident count  \\\n",
       "0                52               188                     1              72   \n",
       "1                76               165                    65             261   \n",
       "2                94               198                    39             117   \n",
       "3                60                74                     3              35   \n",
       "4                65                32                    57             185   \n",
       "\n",
       "   electricity cost  \n",
       "0            1420.0  \n",
       "1            3298.0  \n",
       "2            3115.0  \n",
       "3            1575.0  \n",
       "4            4301.0  "
      ]
     },
     "execution_count": 3,
     "metadata": {},
     "output_type": "execute_result"
    }
   ],
   "source": [
    "df.head()"
   ]
  },
  {
   "cell_type": "code",
   "execution_count": 4,
   "id": "08a2a4bb",
   "metadata": {},
   "outputs": [
    {
     "name": "stdout",
     "output_type": "stream",
     "text": [
      "<class 'pandas.core.frame.DataFrame'>\n",
      "RangeIndex: 10000 entries, 0 to 9999\n",
      "Data columns (total 9 columns):\n",
      " #   Column                Non-Null Count  Dtype  \n",
      "---  ------                --------------  -----  \n",
      " 0   site area             10000 non-null  int64  \n",
      " 1   structure type        10000 non-null  object \n",
      " 2   water consumption     10000 non-null  float64\n",
      " 3   recycling rate        10000 non-null  int64  \n",
      " 4   utilisation rate      10000 non-null  int64  \n",
      " 5   air qality index      10000 non-null  int64  \n",
      " 6   issue reolution time  10000 non-null  int64  \n",
      " 7   resident count        10000 non-null  int64  \n",
      " 8   electricity cost      10000 non-null  float64\n",
      "dtypes: float64(2), int64(6), object(1)\n",
      "memory usage: 703.3+ KB\n"
     ]
    }
   ],
   "source": [
    "df.info()"
   ]
  },
  {
   "cell_type": "code",
   "execution_count": 5,
   "id": "36a08f94",
   "metadata": {},
   "outputs": [
    {
     "data": {
      "text/plain": [
       "array(['Mixed-use', 'Residential', 'Commercial', 'Industrial'],\n",
       "      dtype=object)"
      ]
     },
     "execution_count": 5,
     "metadata": {},
     "output_type": "execute_result"
    }
   ],
   "source": [
    "df['structure type'].unique()"
   ]
  },
  {
   "cell_type": "code",
   "execution_count": 6,
   "id": "44a8f1ce",
   "metadata": {},
   "outputs": [
    {
     "data": {
      "text/plain": [
       "site area               0\n",
       "structure type          0\n",
       "water consumption       0\n",
       "recycling rate          0\n",
       "utilisation rate        0\n",
       "air qality index        0\n",
       "issue reolution time    0\n",
       "resident count          0\n",
       "electricity cost        0\n",
       "dtype: int64"
      ]
     },
     "execution_count": 6,
     "metadata": {},
     "output_type": "execute_result"
    }
   ],
   "source": [
    "df.isna().sum()"
   ]
  },
  {
   "cell_type": "code",
   "execution_count": null,
   "id": "76ff61cc",
   "metadata": {},
   "outputs": [],
   "source": []
  }
 ],
 "metadata": {
  "kernelspec": {
   "display_name": "venv",
   "language": "python",
   "name": "python3"
  },
  "language_info": {
   "codemirror_mode": {
    "name": "ipython",
    "version": 3
   },
   "file_extension": ".py",
   "mimetype": "text/x-python",
   "name": "python",
   "nbconvert_exporter": "python",
   "pygments_lexer": "ipython3",
   "version": "3.13.3"
  }
 },
 "nbformat": 4,
 "nbformat_minor": 5
}
